{
 "cells": [
  {
   "cell_type": "markdown",
   "id": "91e507b9-2948-49a0-b9ae-b0a0de58d5b4",
   "metadata": {},
   "source": [
    "# Introduction to MPA 6020 \n",
    "## Advanced Research Methods for Leadership & Public Service"
   ]
  },
  {
   "cell_type": "markdown",
   "id": "efbf9a78-e099-420f-8777-1139663e895d",
   "metadata": {},
   "source": [
    "This is a hands-on course in which you will learn how to use open-source software (R in particular) to gather, clean, analyze, and visualize data. These four steps are the essence of `data analytics`, `data science`, or whatever other buzzword you see\\hear in the media out there. At first you might think of these four steps in the analytics process and wonder what could be the big deal about gather and cleaning data. Surprise, surprise -- these are the very steps that take up the majority of your time (anywhere between 50% to 80% of the total time you might spend on a project). "
   ]
  },
  {
   "cell_type": "markdown",
   "id": "5f6aac5e-ddfb-4e56-8e9b-065093ac0962",
   "metadata": {},
   "source": [
    "It is only once you have the data ready for analysis can you start analyzing it, and that analysis may be no more than basic exploratory analysis per se, or explorations that culminate in some model-based analyses (for ecample, running a regression model or two). Visualization comes into play in both the exploratory phase (think simple tables and charts that show you how one or more variables are distributed, whether you have outliers, skewed distributions, and so on). Visualizations can be simple, complex, static, and even interactive, with the choice depending upon the data, the analysis, and of course what you feel best conveys the narrative YOU want to convey. "
   ]
  },
  {
   "cell_type": "markdown",
   "id": "f9fb9281-8707-4484-bf8a-6df7873061c1",
   "metadata": {},
   "source": [
    "This is not an easy course so of course you should not expect it to be a breeze. If you have never done coding before, and I mean line by line coding, then this is your chance to play in that sandbox. It is not impossible to learn a lot and become good at coding over the span of three-four months. Many have graduated from this course with a good foundation in R. They have gone on to work with data in the public or private sector while teaching themselves more advanced techniques. 'You mean this course will not teach me everything?' No, this will only get you started with enough of a solid foundation that you can build on at will."
   ]
  },
  {
   "cell_type": "markdown",
   "id": "69ddc0a7-ab67-4f74-902a-1f2dd7ea9e80",
   "metadata": {},
   "source": [
    "Be prepared to put in long hours because you cannot get comfortable with coding, leave alone become good at it, if you do not practice, practice, practice. And to practice does not mean run the same code on the same data over and over again. Nah. What you should do is gather some data-sets (ask me if you can't find any) and then tinker with them, applying what you learn in class. Keep some good humor about you, try not to cuss at the computer if a piece of code misbehaves, and, above all, see how much you can surprise yourself with acquiring coding skills."
   ]
  }
 ],
 "metadata": {
  "kernelspec": {
   "display_name": "R",
   "language": "R",
   "name": "ir"
  },
  "language_info": {
   "codemirror_mode": "r",
   "file_extension": ".r",
   "mimetype": "text/x-r-source",
   "name": "R",
   "pygments_lexer": "r",
   "version": "4.1.2"
  }
 },
 "nbformat": 4,
 "nbformat_minor": 5
}