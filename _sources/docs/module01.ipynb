{
 "cells": [
  {
   "cell_type": "markdown",
   "id": "2c023f0c-055e-4fc5-acd3-d7f41a7b9c09",
   "metadata": {},
   "source": [
    "# Introduction to Reading Data in R\n",
    "\n",
    "This module introduces you to basic operations in R, starting with reading data in from various formats. The latest version of [R](https://cloud.r-project.org) can be found here. If you are looking to install RStudio, you should click [here](https://www.rstudio.com/products/rstudio/download/) to access the current version. "
   ]
  },
  {
   "cell_type": "markdown",
   "id": "91955615",
   "metadata": {},
   "source": [
    "## Installing packages \n",
    "\n",
    "Although R comes bundled with a lot of operations, you will most certainly want to lean on some <code>__packages__</code> authored by __`#rstats`__ users. These packages ease the learning burden even as they extend R's functionality by allowing you to gather Census data, for example, or to rely on an API to access CDC data, create maps that show the distribution of some measure at the tract-level (for example, population density or the proportion of the population lacking health insurance). There are packages designed to visualize data, generate dashboards, build applications, create interactive graphics and even animated graphics, create a website, a blogsite, a presentation slide-deck, and much more! The simplest way that I can describe a package is to speak of it as a collection of specific functions built ot achieve very specific objectives. How do we instal packages then?"
   ]
  },
  {
   "cell_type": "markdown",
   "id": "cd545525-ba8a-439f-837b-9a8499d25646",
   "metadata": {
    "eval": false,
    "name": "packs"
   },
   "source": [
    "You can install a single package by typing at the console prompt the following <code>__install.packages('tidyverse')__</code> and then hitting enter. If you want to install multiple packages at the same time you can list them but as follows:\n",
    "\n",
    "__`install.packages('devtools', 'remotes', 'lubridate', 'gapminder', 'leaflet', 'data.table', 'htmltools', 'scales', 'ggridges', 'here', 'knitr',\n",
    "'kableExtra', 'haven', 'readxl', 'namer', 'foreign', 'tidycensus', 'tidylog', 'hrbrthemes', 'ggthemes', 'plotly', 'highcharter', 'gganimate')`__\n",
    "\n",
    "#### A few tips about packages ...\n",
    "- Packages often have dependencies so do not be surprised if during installation you see or are asked for permission to also install one or more other packages.\n",
    "- Packages are no always self-contained and in fact one package will often rely on one or more other packages. \n",
    "- Packages are often udpated and so you should check and update packages as needed via __`update.packages()`__ \n",
    "- When you update, be aware that if the package depends on other packages and these other packages have not been updated, then the update may not work. In such cases you can always install the older version of the package via, for example, __`remotes::install_version(\"ggplot2\", version = \"0.9.1\", repos = \"http://cran.us.r-project.org\")`__\n",
    "- Some packages are also available only from the author(s)' website. In these cases you will often find the instructions for package installation on the author(s)' website. In the case of __`aws.s3`__ for example, you would have to do run the following command __`remotes::install_github(\"cloudyr/aws.s3\")`__"
   ]
  },
  {
   "cell_type": "markdown",
   "id": "b9bfcddd",
   "metadata": {},
   "source": [
    "## Reading data\n",
    "\n",
    "We assume that you have the data-sets sent to you via `Slack` or `Teams` in the **data** sub-folder. If you don't then the commands that follow will not work. \n",
    "\n",
    "We start by reading a simple `comma-separated variable` format file and then a `tab-delimited variable` format file. "
   ]
  },
  {
   "cell_type": "code",
   "execution_count": 61,
   "id": "c03fb04e",
   "metadata": {},
   "outputs": [],
   "source": [
    "read.csv(\n",
    "    \"data/ImportDataCSV.csv\",\n",
    "    sep = \",\",\n",
    "    header = TRUE\n",
    "    ) -> df.csv "
   ]
  },
  {
   "cell_type": "code",
   "execution_count": 62,
   "id": "7538f985",
   "metadata": {},
   "outputs": [],
   "source": [
    "read.csv(\n",
    "  \"data/ImportDataTAB.txt\",\n",
    "  sep = \"\\t\",\n",
    "  header = TRUE\n",
    "  ) -> df.tab"
   ]
  },
  {
   "cell_type": "markdown",
   "id": "b9a54c02",
   "metadata": {},
   "source": [
    "The `sep = \",\"` switch says the individual variables are separated by a comma, and `header = TRUE` switch indicates that the first row includes variable names. The tab-delimited file needs `sep = \"\\t\"`. If both files were read then `Environment` should show objects called `df.csv` and `df.tab`. If you don't see these, check the following: \n",
    "\n",
    "- Make sure you have the files in your **data** folder \n",
    "- Make sure the folder has been correctly named (no blank spaces before or after, all lowercase, etc)  "
   ]
  },
  {
   "cell_type": "code",
   "execution_count": 63,
   "id": "b00c1d3e",
   "metadata": {},
   "outputs": [
    {
     "data": {
      "text/html": [
       "<style>\n",
       ".list-inline {list-style: none; margin:0; padding: 0}\n",
       ".list-inline>li {display: inline-block}\n",
       ".list-inline>li:not(:last-child)::after {content: \"\\00b7\"; padding: 0 .5ex}\n",
       "</style>\n",
       "<ol class=list-inline><li>'x'</li><li>'y'</li><li>'z'</li></ol>\n"
      ],
      "text/latex": [
       "\\begin{enumerate*}\n",
       "\\item 'x'\n",
       "\\item 'y'\n",
       "\\item 'z'\n",
       "\\end{enumerate*}\n"
      ],
      "text/markdown": [
       "1. 'x'\n",
       "2. 'y'\n",
       "3. 'z'\n",
       "\n",
       "\n"
      ],
      "text/plain": [
       "[1] \"x\" \"y\" \"z\""
      ]
     },
     "metadata": {},
     "output_type": "display_data"
    },
    {
     "data": {
      "text/html": [
       "<table class=\"dataframe\">\n",
       "<caption>A data.frame: 6 × 3</caption>\n",
       "<thead>\n",
       "\t<tr><th></th><th scope=col>x</th><th scope=col>y</th><th scope=col>z</th></tr>\n",
       "\t<tr><th></th><th scope=col>&lt;int&gt;</th><th scope=col>&lt;int&gt;</th><th scope=col>&lt;int&gt;</th></tr>\n",
       "</thead>\n",
       "<tbody>\n",
       "\t<tr><th scope=row>1</th><td> 1</td><td> 2</td><td> 3</td></tr>\n",
       "\t<tr><th scope=row>2</th><td> 4</td><td> 5</td><td> 6</td></tr>\n",
       "\t<tr><th scope=row>3</th><td> 7</td><td> 8</td><td> 9</td></tr>\n",
       "\t<tr><th scope=row>4</th><td>10</td><td>11</td><td>12</td></tr>\n",
       "\t<tr><th scope=row>5</th><td>13</td><td>14</td><td>15</td></tr>\n",
       "\t<tr><th scope=row>6</th><td>16</td><td>17</td><td>18</td></tr>\n",
       "</tbody>\n",
       "</table>\n"
      ],
      "text/latex": [
       "A data.frame: 6 × 3\n",
       "\\begin{tabular}{r|lll}\n",
       "  & x & y & z\\\\\n",
       "  & <int> & <int> & <int>\\\\\n",
       "\\hline\n",
       "\t1 &  1 &  2 &  3\\\\\n",
       "\t2 &  4 &  5 &  6\\\\\n",
       "\t3 &  7 &  8 &  9\\\\\n",
       "\t4 & 10 & 11 & 12\\\\\n",
       "\t5 & 13 & 14 & 15\\\\\n",
       "\t6 & 16 & 17 & 18\\\\\n",
       "\\end{tabular}\n"
      ],
      "text/markdown": [
       "\n",
       "A data.frame: 6 × 3\n",
       "\n",
       "| <!--/--> | x &lt;int&gt; | y &lt;int&gt; | z &lt;int&gt; |\n",
       "|---|---|---|---|\n",
       "| 1 |  1 |  2 |  3 |\n",
       "| 2 |  4 |  5 |  6 |\n",
       "| 3 |  7 |  8 |  9 |\n",
       "| 4 | 10 | 11 | 12 |\n",
       "| 5 | 13 | 14 | 15 |\n",
       "| 6 | 16 | 17 | 18 |\n",
       "\n"
      ],
      "text/plain": [
       "  x  y  z \n",
       "1  1  2  3\n",
       "2  4  5  6\n",
       "3  7  8  9\n",
       "4 10 11 12\n",
       "5 13 14 15\n",
       "6 16 17 18"
      ]
     },
     "metadata": {},
     "output_type": "display_data"
    }
   ],
   "source": [
    "names(df.csv) \n",
    "\n",
    "head(df.csv)"
   ]
  },
  {
   "cell_type": "markdown",
   "id": "0565b862",
   "metadata": {},
   "source": [
    "And now we repeat the preceding commands for the df.tab file"
   ]
  },
  {
   "cell_type": "code",
   "execution_count": 64,
   "id": "77a33393",
   "metadata": {},
   "outputs": [
    {
     "data": {
      "text/html": [
       "<style>\n",
       ".list-inline {list-style: none; margin:0; padding: 0}\n",
       ".list-inline>li {display: inline-block}\n",
       ".list-inline>li:not(:last-child)::after {content: \"\\00b7\"; padding: 0 .5ex}\n",
       "</style>\n",
       "<ol class=list-inline><li>'x'</li><li>'y'</li><li>'z'</li></ol>\n"
      ],
      "text/latex": [
       "\\begin{enumerate*}\n",
       "\\item 'x'\n",
       "\\item 'y'\n",
       "\\item 'z'\n",
       "\\end{enumerate*}\n"
      ],
      "text/markdown": [
       "1. 'x'\n",
       "2. 'y'\n",
       "3. 'z'\n",
       "\n",
       "\n"
      ],
      "text/plain": [
       "[1] \"x\" \"y\" \"z\""
      ]
     },
     "metadata": {},
     "output_type": "display_data"
    },
    {
     "data": {
      "text/html": [
       "<table class=\"dataframe\">\n",
       "<caption>A data.frame: 6 × 3</caption>\n",
       "<thead>\n",
       "\t<tr><th></th><th scope=col>x</th><th scope=col>y</th><th scope=col>z</th></tr>\n",
       "\t<tr><th></th><th scope=col>&lt;int&gt;</th><th scope=col>&lt;int&gt;</th><th scope=col>&lt;int&gt;</th></tr>\n",
       "</thead>\n",
       "<tbody>\n",
       "\t<tr><th scope=row>1</th><td> 1</td><td> 2</td><td> 3</td></tr>\n",
       "\t<tr><th scope=row>2</th><td> 4</td><td> 5</td><td> 6</td></tr>\n",
       "\t<tr><th scope=row>3</th><td> 7</td><td> 8</td><td> 9</td></tr>\n",
       "\t<tr><th scope=row>4</th><td>10</td><td>11</td><td>12</td></tr>\n",
       "\t<tr><th scope=row>5</th><td>13</td><td>14</td><td>15</td></tr>\n",
       "\t<tr><th scope=row>6</th><td>16</td><td>17</td><td>18</td></tr>\n",
       "</tbody>\n",
       "</table>\n"
      ],
      "text/latex": [
       "A data.frame: 6 × 3\n",
       "\\begin{tabular}{r|lll}\n",
       "  & x & y & z\\\\\n",
       "  & <int> & <int> & <int>\\\\\n",
       "\\hline\n",
       "\t1 &  1 &  2 &  3\\\\\n",
       "\t2 &  4 &  5 &  6\\\\\n",
       "\t3 &  7 &  8 &  9\\\\\n",
       "\t4 & 10 & 11 & 12\\\\\n",
       "\t5 & 13 & 14 & 15\\\\\n",
       "\t6 & 16 & 17 & 18\\\\\n",
       "\\end{tabular}\n"
      ],
      "text/markdown": [
       "\n",
       "A data.frame: 6 × 3\n",
       "\n",
       "| <!--/--> | x &lt;int&gt; | y &lt;int&gt; | z &lt;int&gt; |\n",
       "|---|---|---|---|\n",
       "| 1 |  1 |  2 |  3 |\n",
       "| 2 |  4 |  5 |  6 |\n",
       "| 3 |  7 |  8 |  9 |\n",
       "| 4 | 10 | 11 | 12 |\n",
       "| 5 | 13 | 14 | 15 |\n",
       "| 6 | 16 | 17 | 18 |\n",
       "\n"
      ],
      "text/plain": [
       "  x  y  z \n",
       "1  1  2  3\n",
       "2  4  5  6\n",
       "3  7  8  9\n",
       "4 10 11 12\n",
       "5 13 14 15\n",
       "6 16 17 18"
      ]
     },
     "metadata": {},
     "output_type": "display_data"
    }
   ],
   "source": [
    "names(df.tab)\n",
    "\n",
    "head(df.tab)"
   ]
  },
  {
   "cell_type": "markdown",
   "id": "994eb7d1",
   "metadata": {},
   "source": [
    "**Excel** files can be read via the `{readxl}` package"
   ]
  },
  {
   "cell_type": "code",
   "execution_count": 65,
   "id": "7070c0f8",
   "metadata": {
    "eval": true,
    "name": "excel"
   },
   "outputs": [],
   "source": [
    "library(readxl)\n",
    "library(here)\n",
    "\n",
    "read_excel(\n",
    "  here(\n",
    "    \"data\", \n",
    "    \"ImportDataXLS.xls\"\n",
    "    )\n",
    "  ) -> df.xls\n",
    "\n",
    "read_excel(\n",
    "  here(\n",
    "    \"data\", \n",
    "    \"ImportDataXLSX.xlsx\"\n",
    "    )\n",
    "  ) -> df.xlsx"
   ]
  },
  {
   "cell_type": "code",
   "execution_count": 66,
   "id": "e5ee505e",
   "metadata": {},
   "outputs": [
    {
     "data": {
      "text/html": [
       "<table class=\"dataframe\">\n",
       "<caption>A tibble: 6 × 3</caption>\n",
       "<thead>\n",
       "\t<tr><th scope=col>x</th><th scope=col>y</th><th scope=col>z</th></tr>\n",
       "\t<tr><th scope=col>&lt;dbl&gt;</th><th scope=col>&lt;dbl&gt;</th><th scope=col>&lt;dbl&gt;</th></tr>\n",
       "</thead>\n",
       "<tbody>\n",
       "\t<tr><td> 1</td><td> 2</td><td> 3</td></tr>\n",
       "\t<tr><td> 4</td><td> 5</td><td> 6</td></tr>\n",
       "\t<tr><td> 7</td><td> 8</td><td> 9</td></tr>\n",
       "\t<tr><td>10</td><td>11</td><td>12</td></tr>\n",
       "\t<tr><td>13</td><td>14</td><td>15</td></tr>\n",
       "\t<tr><td>16</td><td>17</td><td>18</td></tr>\n",
       "</tbody>\n",
       "</table>\n"
      ],
      "text/latex": [
       "A tibble: 6 × 3\n",
       "\\begin{tabular}{lll}\n",
       " x & y & z\\\\\n",
       " <dbl> & <dbl> & <dbl>\\\\\n",
       "\\hline\n",
       "\t  1 &  2 &  3\\\\\n",
       "\t  4 &  5 &  6\\\\\n",
       "\t  7 &  8 &  9\\\\\n",
       "\t 10 & 11 & 12\\\\\n",
       "\t 13 & 14 & 15\\\\\n",
       "\t 16 & 17 & 18\\\\\n",
       "\\end{tabular}\n"
      ],
      "text/markdown": [
       "\n",
       "A tibble: 6 × 3\n",
       "\n",
       "| x &lt;dbl&gt; | y &lt;dbl&gt; | z &lt;dbl&gt; |\n",
       "|---|---|---|\n",
       "|  1 |  2 |  3 |\n",
       "|  4 |  5 |  6 |\n",
       "|  7 |  8 |  9 |\n",
       "| 10 | 11 | 12 |\n",
       "| 13 | 14 | 15 |\n",
       "| 16 | 17 | 18 |\n",
       "\n"
      ],
      "text/plain": [
       "  x  y  z \n",
       "1  1  2  3\n",
       "2  4  5  6\n",
       "3  7  8  9\n",
       "4 10 11 12\n",
       "5 13 14 15\n",
       "6 16 17 18"
      ]
     },
     "metadata": {},
     "output_type": "display_data"
    }
   ],
   "source": [
    "head(df.xlsx)"
   ]
  },
  {
   "cell_type": "code",
   "execution_count": 67,
   "id": "00f0d39d",
   "metadata": {},
   "outputs": [
    {
     "data": {
      "text/html": [
       "<table class=\"dataframe\">\n",
       "<caption>A tibble: 6 × 3</caption>\n",
       "<thead>\n",
       "\t<tr><th scope=col>x</th><th scope=col>y</th><th scope=col>z</th></tr>\n",
       "\t<tr><th scope=col>&lt;dbl&gt;</th><th scope=col>&lt;dbl&gt;</th><th scope=col>&lt;dbl&gt;</th></tr>\n",
       "</thead>\n",
       "<tbody>\n",
       "\t<tr><td> 1</td><td> 2</td><td> 3</td></tr>\n",
       "\t<tr><td> 4</td><td> 5</td><td> 6</td></tr>\n",
       "\t<tr><td> 7</td><td> 8</td><td> 9</td></tr>\n",
       "\t<tr><td>10</td><td>11</td><td>12</td></tr>\n",
       "\t<tr><td>13</td><td>14</td><td>15</td></tr>\n",
       "\t<tr><td>16</td><td>17</td><td>18</td></tr>\n",
       "</tbody>\n",
       "</table>\n"
      ],
      "text/latex": [
       "A tibble: 6 × 3\n",
       "\\begin{tabular}{lll}\n",
       " x & y & z\\\\\n",
       " <dbl> & <dbl> & <dbl>\\\\\n",
       "\\hline\n",
       "\t  1 &  2 &  3\\\\\n",
       "\t  4 &  5 &  6\\\\\n",
       "\t  7 &  8 &  9\\\\\n",
       "\t 10 & 11 & 12\\\\\n",
       "\t 13 & 14 & 15\\\\\n",
       "\t 16 & 17 & 18\\\\\n",
       "\\end{tabular}\n"
      ],
      "text/markdown": [
       "\n",
       "A tibble: 6 × 3\n",
       "\n",
       "| x &lt;dbl&gt; | y &lt;dbl&gt; | z &lt;dbl&gt; |\n",
       "|---|---|---|\n",
       "|  1 |  2 |  3 |\n",
       "|  4 |  5 |  6 |\n",
       "|  7 |  8 |  9 |\n",
       "| 10 | 11 | 12 |\n",
       "| 13 | 14 | 15 |\n",
       "| 16 | 17 | 18 |\n",
       "\n"
      ],
      "text/plain": [
       "  x  y  z \n",
       "1  1  2  3\n",
       "2  4  5  6\n",
       "3  7  8  9\n",
       "4 10 11 12\n",
       "5 13 14 15\n",
       "6 16 17 18"
      ]
     },
     "metadata": {},
     "output_type": "display_data"
    }
   ],
   "source": [
    "head(df.xlsx)"
   ]
  },
  {
   "cell_type": "markdown",
   "id": "93388daa",
   "metadata": {},
   "source": [
    "**SPSS, Stata, SAS** files can be read via the `{haven}` package"
   ]
  },
  {
   "cell_type": "code",
   "execution_count": 68,
   "id": "b45b7d3d",
   "metadata": {
    "eval": true,
    "name": "others"
   },
   "outputs": [],
   "source": [
    "library(haven)\n",
    "\n",
    "read_stata(\n",
    "  here(\n",
    "    \"data\", \n",
    "    \"ImportDataStata.dta\"\n",
    "    )\n",
    "  ) -> df.stata \n",
    "\n",
    "read_sas(\n",
    "  here(\n",
    "    \"data\", \n",
    "    \"ImportDataSAS.sas7bdat\"\n",
    "    )\n",
    "  ) -> df.sas\n",
    "\n",
    "read_sav(\n",
    "  here(\n",
    "    \"data\", \n",
    "    \"ImportDataSPSS.sav\"\n",
    "    )\n",
    "  ) -> df.spss"
   ]
  },
  {
   "cell_type": "code",
   "execution_count": 69,
   "id": "9fedd4f3",
   "metadata": {},
   "outputs": [
    {
     "data": {
      "text/html": [
       "<table class=\"dataframe\">\n",
       "<caption>A tibble: 6 × 3</caption>\n",
       "<thead>\n",
       "\t<tr><th scope=col>x</th><th scope=col>y</th><th scope=col>z</th></tr>\n",
       "\t<tr><th scope=col>&lt;dbl&gt;</th><th scope=col>&lt;dbl&gt;</th><th scope=col>&lt;dbl&gt;</th></tr>\n",
       "</thead>\n",
       "<tbody>\n",
       "\t<tr><td> 1</td><td> 2</td><td> 3</td></tr>\n",
       "\t<tr><td> 4</td><td> 5</td><td> 6</td></tr>\n",
       "\t<tr><td> 7</td><td> 8</td><td> 9</td></tr>\n",
       "\t<tr><td>10</td><td>11</td><td>12</td></tr>\n",
       "\t<tr><td>13</td><td>14</td><td>15</td></tr>\n",
       "\t<tr><td>16</td><td>17</td><td>18</td></tr>\n",
       "</tbody>\n",
       "</table>\n"
      ],
      "text/latex": [
       "A tibble: 6 × 3\n",
       "\\begin{tabular}{lll}\n",
       " x & y & z\\\\\n",
       " <dbl> & <dbl> & <dbl>\\\\\n",
       "\\hline\n",
       "\t  1 &  2 &  3\\\\\n",
       "\t  4 &  5 &  6\\\\\n",
       "\t  7 &  8 &  9\\\\\n",
       "\t 10 & 11 & 12\\\\\n",
       "\t 13 & 14 & 15\\\\\n",
       "\t 16 & 17 & 18\\\\\n",
       "\\end{tabular}\n"
      ],
      "text/markdown": [
       "\n",
       "A tibble: 6 × 3\n",
       "\n",
       "| x &lt;dbl&gt; | y &lt;dbl&gt; | z &lt;dbl&gt; |\n",
       "|---|---|---|\n",
       "|  1 |  2 |  3 |\n",
       "|  4 |  5 |  6 |\n",
       "|  7 |  8 |  9 |\n",
       "| 10 | 11 | 12 |\n",
       "| 13 | 14 | 15 |\n",
       "| 16 | 17 | 18 |\n",
       "\n"
      ],
      "text/plain": [
       "  x  y  z \n",
       "1  1  2  3\n",
       "2  4  5  6\n",
       "3  7  8  9\n",
       "4 10 11 12\n",
       "5 13 14 15\n",
       "6 16 17 18"
      ]
     },
     "metadata": {},
     "output_type": "display_data"
    }
   ],
   "source": [
    "head(df.spss)"
   ]
  },
  {
   "cell_type": "markdown",
   "id": "e1b11bf4",
   "metadata": {
    "lines_to_next_cell": 0
   },
   "source": [
    "It is also common to encounter **fixed-width** files where the raw data are stored without any gaps between successive variables. However, these files will come with documentation that will tell you where each variable starts and ends, along with other details about each variable. The example shown below is courtesy of [Oracle](https://www.oracle.com/webfolder/technetwork/data-quality/edqhelp/Content/resources/Images/director/fixedwidthfilenonewlines.png)"
   ]
  },
  {
   "cell_type": "markdown",
   "id": "5049f5fe-8a3a-4009-be92-eee471f39fd2",
   "metadata": {
    "lines_to_next_cell": 0,
    "out.width": "100%",
    "tags": [
     "remove_input"
    ]
   },
   "source": [
    "![An example of a fixed-width file](https://www.oracle.com/webfolder/technetwork/data-quality/edqhelp/Content/resources/Images/director/fixedwidthfilenonewlines.png)"
   ]
  },
  {
   "cell_type": "code",
   "execution_count": 70,
   "id": "b90f688b",
   "metadata": {
    "eval": true,
    "name": "dfw"
   },
   "outputs": [],
   "source": [
    "read.fwf(\n",
    "  here(\n",
    "    \"data\", \n",
    "    \"fwfdata.txt\"\n",
    "    ),\n",
    "  widths = c(4, 9, 2, 4),\n",
    "  header = FALSE,\n",
    "  col.names = c(\"Name\", \"Month\", \"Day\", \"Year\")\n",
    "  ) -> df.fw"
   ]
  },
  {
   "cell_type": "code",
   "execution_count": 71,
   "id": "ecb06c44",
   "metadata": {},
   "outputs": [
    {
     "data": {
      "text/html": [
       "<table class=\"dataframe\">\n",
       "<caption>A data.frame: 2 × 4</caption>\n",
       "<thead>\n",
       "\t<tr><th></th><th scope=col>Name</th><th scope=col>Month</th><th scope=col>Day</th><th scope=col>Year</th></tr>\n",
       "\t<tr><th></th><th scope=col>&lt;chr&gt;</th><th scope=col>&lt;chr&gt;</th><th scope=col>&lt;int&gt;</th><th scope=col>&lt;int&gt;</th></tr>\n",
       "</thead>\n",
       "<tbody>\n",
       "\t<tr><th scope=row>1</th><td>Amy </td><td> December</td><td> 1</td><td>2017</td></tr>\n",
       "\t<tr><th scope=row>2</th><td>Abby</td><td> December</td><td>11</td><td>2017</td></tr>\n",
       "</tbody>\n",
       "</table>\n"
      ],
      "text/latex": [
       "A data.frame: 2 × 4\n",
       "\\begin{tabular}{r|llll}\n",
       "  & Name & Month & Day & Year\\\\\n",
       "  & <chr> & <chr> & <int> & <int>\\\\\n",
       "\\hline\n",
       "\t1 & Amy  &  December &  1 & 2017\\\\\n",
       "\t2 & Abby &  December & 11 & 2017\\\\\n",
       "\\end{tabular}\n"
      ],
      "text/markdown": [
       "\n",
       "A data.frame: 2 × 4\n",
       "\n",
       "| <!--/--> | Name &lt;chr&gt; | Month &lt;chr&gt; | Day &lt;int&gt; | Year &lt;int&gt; |\n",
       "|---|---|---|---|---|\n",
       "| 1 | Amy  |  December |  1 | 2017 |\n",
       "| 2 | Abby |  December | 11 | 2017 |\n",
       "\n"
      ],
      "text/plain": [
       "  Name Month     Day Year\n",
       "1 Amy   December  1  2017\n",
       "2 Abby  December 11  2017"
      ]
     },
     "metadata": {},
     "output_type": "display_data"
    }
   ],
   "source": [
    "head(df.fw)"
   ]
  },
  {
   "cell_type": "markdown",
   "id": "50551345",
   "metadata": {},
   "source": [
    "Note: we need `widths = c()` to indicate how many slots each variable takes and then `col.names = c()` to label the columns since the data file does not have variable names. The documentation (not shown here) has Name spanning the first 4 characters, Month spans the next 9 characters, Day spans the next two, and then Year spans the next 4 characters. "
   ]
  },
  {
   "cell_type": "markdown",
   "id": "be980892",
   "metadata": {},
   "source": [
    "## Reading Files from the Web\n",
    "\n",
    "Files need not all be locally stored and can be read off the web by specifying the full web-path for the file when reading it. This is often useful when updated the data tend to be updated by the source (for example, a health department that updates the CSV file containing the previous day's COVID-19 cases, hospitalizatins, and deaths.) One such file is available [here](https://coronavirus.ohio.gov/static/dashboards/COVIDDeathData_CountyOfResidence.csv)"
   ]
  },
  {
   "cell_type": "code",
   "execution_count": 72,
   "id": "b0181c1f",
   "metadata": {
    "eval": true,
    "name": "readfiles"
   },
   "outputs": [
    {
     "data": {
      "text/html": [
       "<table class=\"dataframe\">\n",
       "<caption>A data.frame: 20 × 3</caption>\n",
       "<thead>\n",
       "\t<tr><th></th><th scope=col>setting</th><th scope=col>effort</th><th scope=col>change</th></tr>\n",
       "\t<tr><th></th><th scope=col>&lt;int&gt;</th><th scope=col>&lt;int&gt;</th><th scope=col>&lt;int&gt;</th></tr>\n",
       "</thead>\n",
       "<tbody>\n",
       "\t<tr><th scope=row>Bolivia</th><td>46</td><td> 0</td><td> 1</td></tr>\n",
       "\t<tr><th scope=row>Brazil</th><td>74</td><td> 0</td><td>10</td></tr>\n",
       "\t<tr><th scope=row>Chile</th><td>89</td><td>16</td><td>29</td></tr>\n",
       "\t<tr><th scope=row>Colombia</th><td>77</td><td>16</td><td>25</td></tr>\n",
       "\t<tr><th scope=row>CostaRica</th><td>84</td><td>21</td><td>29</td></tr>\n",
       "\t<tr><th scope=row>Cuba</th><td>89</td><td>15</td><td>40</td></tr>\n",
       "\t<tr><th scope=row>DominicanRep</th><td>68</td><td>14</td><td>21</td></tr>\n",
       "\t<tr><th scope=row>Ecuador</th><td>70</td><td> 6</td><td> 0</td></tr>\n",
       "\t<tr><th scope=row>ElSalvador</th><td>60</td><td>13</td><td>13</td></tr>\n",
       "\t<tr><th scope=row>Guatemala</th><td>55</td><td> 9</td><td> 4</td></tr>\n",
       "\t<tr><th scope=row>Haiti</th><td>35</td><td> 3</td><td> 0</td></tr>\n",
       "\t<tr><th scope=row>Honduras</th><td>51</td><td> 7</td><td> 7</td></tr>\n",
       "\t<tr><th scope=row>Jamaica</th><td>87</td><td>23</td><td>21</td></tr>\n",
       "\t<tr><th scope=row>Mexico</th><td>83</td><td> 4</td><td> 9</td></tr>\n",
       "\t<tr><th scope=row>Nicaragua</th><td>68</td><td> 0</td><td> 7</td></tr>\n",
       "\t<tr><th scope=row>Panama</th><td>84</td><td>19</td><td>22</td></tr>\n",
       "\t<tr><th scope=row>Paraguay</th><td>74</td><td> 3</td><td> 6</td></tr>\n",
       "\t<tr><th scope=row>Peru</th><td>73</td><td> 0</td><td> 2</td></tr>\n",
       "\t<tr><th scope=row>TrinidadTobago</th><td>84</td><td>15</td><td>29</td></tr>\n",
       "\t<tr><th scope=row>Venezuela</th><td>91</td><td> 7</td><td>11</td></tr>\n",
       "</tbody>\n",
       "</table>\n"
      ],
      "text/latex": [
       "A data.frame: 20 × 3\n",
       "\\begin{tabular}{r|lll}\n",
       "  & setting & effort & change\\\\\n",
       "  & <int> & <int> & <int>\\\\\n",
       "\\hline\n",
       "\tBolivia & 46 &  0 &  1\\\\\n",
       "\tBrazil & 74 &  0 & 10\\\\\n",
       "\tChile & 89 & 16 & 29\\\\\n",
       "\tColombia & 77 & 16 & 25\\\\\n",
       "\tCostaRica & 84 & 21 & 29\\\\\n",
       "\tCuba & 89 & 15 & 40\\\\\n",
       "\tDominicanRep & 68 & 14 & 21\\\\\n",
       "\tEcuador & 70 &  6 &  0\\\\\n",
       "\tElSalvador & 60 & 13 & 13\\\\\n",
       "\tGuatemala & 55 &  9 &  4\\\\\n",
       "\tHaiti & 35 &  3 &  0\\\\\n",
       "\tHonduras & 51 &  7 &  7\\\\\n",
       "\tJamaica & 87 & 23 & 21\\\\\n",
       "\tMexico & 83 &  4 &  9\\\\\n",
       "\tNicaragua & 68 &  0 &  7\\\\\n",
       "\tPanama & 84 & 19 & 22\\\\\n",
       "\tParaguay & 74 &  3 &  6\\\\\n",
       "\tPeru & 73 &  0 &  2\\\\\n",
       "\tTrinidadTobago & 84 & 15 & 29\\\\\n",
       "\tVenezuela & 91 &  7 & 11\\\\\n",
       "\\end{tabular}\n"
      ],
      "text/markdown": [
       "\n",
       "A data.frame: 20 × 3\n",
       "\n",
       "| <!--/--> | setting &lt;int&gt; | effort &lt;int&gt; | change &lt;int&gt; |\n",
       "|---|---|---|---|\n",
       "| Bolivia | 46 |  0 |  1 |\n",
       "| Brazil | 74 |  0 | 10 |\n",
       "| Chile | 89 | 16 | 29 |\n",
       "| Colombia | 77 | 16 | 25 |\n",
       "| CostaRica | 84 | 21 | 29 |\n",
       "| Cuba | 89 | 15 | 40 |\n",
       "| DominicanRep | 68 | 14 | 21 |\n",
       "| Ecuador | 70 |  6 |  0 |\n",
       "| ElSalvador | 60 | 13 | 13 |\n",
       "| Guatemala | 55 |  9 |  4 |\n",
       "| Haiti | 35 |  3 |  0 |\n",
       "| Honduras | 51 |  7 |  7 |\n",
       "| Jamaica | 87 | 23 | 21 |\n",
       "| Mexico | 83 |  4 |  9 |\n",
       "| Nicaragua | 68 |  0 |  7 |\n",
       "| Panama | 84 | 19 | 22 |\n",
       "| Paraguay | 74 |  3 |  6 |\n",
       "| Peru | 73 |  0 |  2 |\n",
       "| TrinidadTobago | 84 | 15 | 29 |\n",
       "| Venezuela | 91 |  7 | 11 |\n",
       "\n"
      ],
      "text/plain": [
       "               setting effort change\n",
       "Bolivia        46       0      1    \n",
       "Brazil         74       0     10    \n",
       "Chile          89      16     29    \n",
       "Colombia       77      16     25    \n",
       "CostaRica      84      21     29    \n",
       "Cuba           89      15     40    \n",
       "DominicanRep   68      14     21    \n",
       "Ecuador        70       6      0    \n",
       "ElSalvador     60      13     13    \n",
       "Guatemala      55       9      4    \n",
       "Haiti          35       3      0    \n",
       "Honduras       51       7      7    \n",
       "Jamaica        87      23     21    \n",
       "Mexico         83       4      9    \n",
       "Nicaragua      68       0      7    \n",
       "Panama         84      19     22    \n",
       "Paraguay       74       3      6    \n",
       "Peru           73       0      2    \n",
       "TrinidadTobago 84      15     29    \n",
       "Venezuela      91       7     11    "
      ]
     },
     "metadata": {},
     "output_type": "display_data"
    }
   ],
   "source": [
    "read.table(\n",
    "  \"http://data.princeton.edu/wws509/datasets/effort.dat\"\n",
    "  ) -> fpe\n",
    "\n",
    "fpe"
   ]
  },
  {
   "cell_type": "markdown",
   "id": "5653784c",
   "metadata": {},
   "source": [
    "Note that calling something we created and saved with a name, such as this dataframe `fpe`, will show us the contents "
   ]
  },
  {
   "cell_type": "code",
   "execution_count": 73,
   "id": "1b78a384",
   "metadata": {
    "eval": true,
    "name": "readfiles"
   },
   "outputs": [],
   "source": [
    "read.table(\n",
    "  \"https://stats.idre.ucla.edu/stat/data/test.txt\",\n",
    "  header = TRUE\n",
    "  ) -> test.txt \n",
    "\n",
    "read.csv(\n",
    "  \"https://stats.idre.ucla.edu/stat/data/test.csv\",\n",
    "  header = TRUE\n",
    "  ) -> test.csv\n",
    "\n",
    "read.csv(\n",
    "  'https://coronavirus.ohio.gov/static/dashboards/COVIDDeathData_CountyOfResidence.csv',\n",
    "  header = TRUE\n",
    "  ) -> ohcovid19\n",
    "\n",
    "library(foreign)\n",
    "\n",
    "read.spss(\n",
    "  \"https://stats.idre.ucla.edu/stat/data/hsb2.sav\"\n",
    "  ) -> hsb2.spss\n",
    "\n",
    "as.data.frame(hsb2.spss) -> df.hsb2.spss"
   ]
  },
  {
   "cell_type": "markdown",
   "id": "edb38305",
   "metadata": {},
   "source": [
    "Note that `hsb2.spss` was read with the `{foreign}`, an alternative package to `{haven}` \n",
    "\n",
    "- `{foreign}` calls `read.spss` \n",
    "- `{haven}` calls `read_spss`\n",
    "\n",
    "You should also check out another package for data import\\export -- `{rio}` documented [here](https://github.com/leeper/rio)"
   ]
  },
  {
   "cell_type": "code",
   "execution_count": 74,
   "id": "75967e9c",
   "metadata": {
    "lines_to_next_cell": 2
   },
   "outputs": [],
   "source": [
    "library(haven)\n",
    "\n",
    "read_spss(\n",
    "  \"https://stats.idre.ucla.edu/stat/data/hsb2.sav\"\n",
    "  ) -> hsb2.spss.haven"
   ]
  },
  {
   "cell_type": "markdown",
   "id": "ee20aaa7",
   "metadata": {},
   "source": [
    "The `{foreign}` package will also read Stata and other formats and was the  one I used a lot before defaulting to `haven` now. There are other packages for reading SAS, SPSS,  etc. data files -- `{sas7bdat}`, `{data.table}`, `{xlsx}`, `{XLConnect}`, `{gdata}`, etc. "
   ]
  },
  {
   "cell_type": "markdown",
   "id": "145a3b86",
   "metadata": {},
   "source": [
    "Excel files cannot be read off the web in the same manner as we did *.csv, *.txt, etc. The code sequence is a little more convoluted, as shown below."
   ]
  },
  {
   "cell_type": "code",
   "execution_count": 75,
   "id": "308c77be",
   "metadata": {},
   "outputs": [],
   "source": [
    "library(readxl)\n",
    "\n",
    "download.file(\n",
    "  \"https://stats.idre.ucla.edu/stat/data/hsb2.xls\", \n",
    "  \"hsb2.xls\", \n",
    "  mode = \"wb\"\n",
    "  )\n",
    "\n",
    "read_excel(\"hsb2.xls\") -> hsb2"
   ]
  },
  {
   "cell_type": "markdown",
   "id": "4fe12ac4",
   "metadata": {},
   "source": [
    "You could also do the following with the {rio} package but remember to install the `{rio}` package (if missing) and to run __`rio::install_formats()`__ before executing the code below."
   ]
  },
  {
   "cell_type": "code",
   "execution_count": 76,
   "id": "3d3edc54",
   "metadata": {},
   "outputs": [],
   "source": [
    "library(rio)\n",
    "\n",
    "\"https://stats.idre.ucla.edu/stat/data/hsb2.xls\" -> url\n",
    "\n",
    "import(url) -> my_data"
   ]
  },
  {
   "cell_type": "markdown",
   "id": "8478d12d",
   "metadata": {},
   "source": [
    "## Reading compressed files \n",
    "Large files may sit in compressed archives on the web and R has a neat way of allowing you to download the file, unzip it, and read it. Why is this useful? Because if these files tend to be update periodicially, this ability lets you use the same piece of R code to download/unzip/read the updated file. The tedious way would be to manually download, unzip, place in the appropriate data folder, and then read it."
   ]
  },
  {
   "cell_type": "code",
   "execution_count": null,
   "id": "6032b9d7",
   "metadata": {
    "deletable": false,
    "editable": false,
    "eval": false,
    "name": "gzip",
    "run_control": {
     "frozen": true
    }
   },
   "outputs": [],
   "source": [
    "temp <- tempfile()\n",
    "\n",
    "download.file(\n",
    "  \"ftp://ftp.cdc.gov/pub/Health_Statistics/NCHS/nvss/bridged_race/pcen_v2018_y1018.sas7bdat.zip\",\n",
    "  temp, \n",
    "  mode = \"wb\"\n",
    "  )\n",
    "\n",
    "haven::read_sas(\n",
    "  unzip(\n",
    "    temp,\n",
    "    \"pcen_v2018_y1018.sas7bdat/pcen_v2018_y1018.sas7bdat\"\n",
    "    )\n",
    "  ) -> oursasdata \n",
    "\n",
    "unlink(temp)"
   ]
  },
  {
   "cell_type": "markdown",
   "id": "49f33655",
   "metadata": {},
   "source": [
    "Note that in the code above I didn't run "
   ]
  },
  {
   "cell_type": "code",
   "execution_count": null,
   "id": "5296a864",
   "metadata": {
    "deletable": false,
    "editable": false,
    "eval": false,
    "name": "gzip2",
    "run_control": {
     "frozen": true
    }
   },
   "outputs": [],
   "source": [
    "library(haven)\n",
    "\n",
    "read_sas(\n",
    "  unzip(\n",
    "    temp, \n",
    "    \"pcen_v2018_y1018.sas7bdat/pcen_v2018_y1018.sas7bdat\"\n",
    "    )\n",
    "  ) -> oursasdata"
   ]
  },
  {
   "cell_type": "markdown",
   "id": "153c01c6",
   "metadata": {},
   "source": [
    "This is because you can skip the `library()` command before using some function from the package by directly invoking the package as in `haven::`. \n",
    "\n",
    "You can save your data in a format that R will recognize, giving it the **RData** or **rdata** extension "
   ]
  },
  {
   "cell_type": "code",
   "execution_count": null,
   "id": "ad5fbbd4",
   "metadata": {
    "deletable": false,
    "editable": false,
    "eval": false,
    "name": "saverd",
    "run_control": {
     "frozen": true
    }
   },
   "outputs": [],
   "source": [
    "save(\n",
    "  oursasdata, \n",
    "  file = here(\n",
    "    \"data\", \n",
    "    \"oursasdata.RData\"\n",
    "    )\n",
    "  )\n",
    "\n",
    "save(\n",
    "  oursasdata, \n",
    "  file = here(\n",
    "    \"data\", \n",
    "    \"oursasdata.rdata\"\n",
    "    )\n",
    "  )"
   ]
  },
  {
   "cell_type": "markdown",
   "id": "1cb1fef2",
   "metadata": {},
   "source": [
    "Check your **data** directory to confirm both files are present \n",
    "\n",
    "# Minimal example of data processing\n",
    "\n",
    "Working with the **hsb2** data: 200 students from the High school and Beyond study "
   ]
  },
  {
   "cell_type": "markdown",
   "id": "a5fcc801",
   "metadata": {
    "deletable": false,
    "editable": false,
    "run_control": {
     "frozen": true
    }
   },
   "source": [
    "| Variable | Description |\n",
    "| :- | :- |\n",
    "| `female`  | (0 = Male 1 = Female) |\n",
    "| `race` | (1=Hispanic 2=Asian 3=African-American 4=White) |\n",
    "| `ses`  | socioeconomic status (1=Low 2=Middle 3=High) |\n",
    "| `schtyp` |  type of school (1=Public 2=Private) |\n",
    "| `prog`   | type of program (1=General 2=Academic 3=Vocational) |\n",
    "| `read`  |  standardized reading score |\n",
    "| `write`  | standardized writing score |\n",
    "| `math`   | standardized math score |\n",
    "| `science` | standardized science score |\n",
    "| `socst` | standardized social studies score |"
   ]
  },
  {
   "cell_type": "code",
   "execution_count": 77,
   "id": "1e1fa534",
   "metadata": {
    "layout": "l-page",
    "name": "dt1",
    "tags": [
     "remove_input"
    ]
   },
   "outputs": [],
   "source": [
    "read.table(\n",
    "  'https://stats.idre.ucla.edu/stat/data/hsb2.csv',\n",
    "  header = TRUE,\n",
    "  sep = \",\"\n",
    "  ) -> hsb2\n",
    "\n",
    "head(hsb2)"
   ]
  },
  {
   "cell_type": "markdown",
   "id": "77ac7e30",
   "metadata": {},
   "source": [
    "There are no value labels for the various qualitative/categorical variables (female, race, ses, schtyp, and prog) so we next create these. "
   ]
  },
  {
   "cell_type": "code",
   "execution_count": 79,
   "id": "479e6dfb",
   "metadata": {
    "eval": false,
    "name": "hsb2clean"
   },
   "outputs": [],
   "source": [
    "factor(\n",
    "  hsb2$female,\n",
    "  levels = c(0, 1),\n",
    "  labels=c(\"Male\", \"Female\")\n",
    "  ) -> hsb2$female \n",
    "\n",
    "factor(\n",
    "  hsb2$race,\n",
    "  levels = c(1:4),\n",
    "  labels=c(\"Hispanic\", \"Asian\", \"African American\", \"White\")\n",
    "  ) -> hsb2$race\n",
    "\n",
    "factor(\n",
    "  hsb2$ses, \n",
    "  levels = c(1:3),\n",
    "  labels=c(\"Low\", \"Middle\", \"High\")\n",
    "  ) -> hsb2$ses\n",
    "\n",
    "factor(\n",
    "  hsb2$schtyp,\n",
    "  levels = c(1:2),\n",
    "  labels=c(\"Public\", \"Private\")\n",
    "  ) -> hsb2$schtyp\n",
    "\n",
    "factor(\n",
    "  hsb2$prog,\n",
    "  levels = c(1:3), \n",
    "  labels=c(\"General\", \"Academic\", \"Vocational\")\n",
    "  ) -> hsb2$prog"
   ]
  },
  {
   "cell_type": "markdown",
   "id": "fd5eff8f",
   "metadata": {},
   "source": [
    "I am overwriting each variable, indicating to R that variable `x` will show up as numeric with values 0 and 1, and that a 0 should be treated as male and a 1 as female, and so on. There are are four values for race, 3 for ses, 2 for schtyp, and 3 for prog, so the mapping has to reflect this. \n",
    "\n",
    "If you wanted to preserve the original variables you would have to use unique names when saving each `factor()` as in, for example, <code>-> hsb2$female.f </code> and so on.  \n",
    "\n",
    "Note that this is just a quick run through with creating value labels; we will cover this in greater detail in a later module. \n",
    "\n",
    "**save your work!!**\n",
    "\n",
    "Having added labels to the factors in __hsb2__ we can now save the data for later use. "
   ]
  },
  {
   "cell_type": "code",
   "execution_count": 80,
   "id": "e0efc467",
   "metadata": {
    "eval": true,
    "name": "hasb2saveanew"
   },
   "outputs": [],
   "source": [
    "save(\n",
    "  hsb2, \n",
    "  file = here(\n",
    "    \"data\", \n",
    "    \"hsb2.RData\"\n",
    "    )\n",
    "  ) "
   ]
  },
  {
   "cell_type": "markdown",
   "id": "5c3575ca",
   "metadata": {},
   "source": [
    "Let us test if this R Markdown file will knit to html. If all is good then we can `Close Project`, and when we do so, RStudio will close the project and reopen in a vanilla session.  \n",
    "\n",
    "## Data in packages \n",
    "\n",
    "Almost all R packages come bundled with data-sets, too many of them to walk you through but \n",
    "\n",
    "- [see here for standard ones](https://stat.ethz.ch/R-manual/R-devel/library/datasets/html/00Index.html) \n",
    "- [here are some more](https://vincentarelbundock.github.io/Rdatasets/datasets.html) \n",
    "- [and some more](http://www.public.iastate.edu/~hofmann/data_in_r_sortable.html) \n",
    "\n",
    "To load data from a package, if you know the data-set's name, run "
   ]
  },
  {
   "cell_type": "code",
   "execution_count": 81,
   "id": "81c98dae",
   "metadata": {
    "name": "dataset1"
   },
   "outputs": [
    {
     "data": {
      "text/html": [
       "<style>\n",
       ".list-inline {list-style: none; margin:0; padding: 0}\n",
       ".list-inline>li {display: inline-block}\n",
       ".list-inline>li:not(:last-child)::after {content: \"\\00b7\"; padding: 0 .5ex}\n",
       "</style>\n",
       "<ol class=list-inline><li>'parent'</li><li>'child'</li></ol>\n"
      ],
      "text/latex": [
       "\\begin{enumerate*}\n",
       "\\item 'parent'\n",
       "\\item 'child'\n",
       "\\end{enumerate*}\n"
      ],
      "text/markdown": [
       "1. 'parent'\n",
       "2. 'child'\n",
       "\n",
       "\n"
      ],
      "text/plain": [
       "[1] \"parent\" \"child\" "
      ]
     },
     "metadata": {},
     "output_type": "display_data"
    }
   ],
   "source": [
    "library(HistData)\n",
    "\n",
    "data(\"Galton\")\n",
    "\n",
    "names(Galton)"
   ]
  },
  {
   "cell_type": "markdown",
   "id": "f8aa57a1",
   "metadata": {},
   "source": [
    "or you can run "
   ]
  },
  {
   "cell_type": "code",
   "execution_count": 82,
   "id": "bf91304c",
   "metadata": {
    "name": "dataset2"
   },
   "outputs": [
    {
     "data": {
      "text/html": [
       "<style>\n",
       ".list-inline {list-style: none; margin:0; padding: 0}\n",
       ".list-inline>li {display: inline-block}\n",
       ".list-inline>li:not(:last-child)::after {content: \"\\00b7\"; padding: 0 .5ex}\n",
       "</style>\n",
       "<ol class=list-inline><li>'family'</li><li>'father'</li><li>'mother'</li><li>'midparentHeight'</li><li>'children'</li><li>'childNum'</li><li>'gender'</li><li>'childHeight'</li></ol>\n"
      ],
      "text/latex": [
       "\\begin{enumerate*}\n",
       "\\item 'family'\n",
       "\\item 'father'\n",
       "\\item 'mother'\n",
       "\\item 'midparentHeight'\n",
       "\\item 'children'\n",
       "\\item 'childNum'\n",
       "\\item 'gender'\n",
       "\\item 'childHeight'\n",
       "\\end{enumerate*}\n"
      ],
      "text/markdown": [
       "1. 'family'\n",
       "2. 'father'\n",
       "3. 'mother'\n",
       "4. 'midparentHeight'\n",
       "5. 'children'\n",
       "6. 'childNum'\n",
       "7. 'gender'\n",
       "8. 'childHeight'\n",
       "\n",
       "\n"
      ],
      "text/plain": [
       "[1] \"family\"          \"father\"          \"mother\"          \"midparentHeight\"\n",
       "[5] \"children\"        \"childNum\"        \"gender\"          \"childHeight\"    "
      ]
     },
     "metadata": {},
     "output_type": "display_data"
    }
   ],
   "source": [
    "data(\n",
    "  \"GaltonFamilies\", \n",
    "  package = \"HistData\"\n",
    "  )\n",
    "\n",
    "names(GaltonFamilies)"
   ]
  },
  {
   "cell_type": "markdown",
   "id": "fa60aa7c",
   "metadata": {},
   "source": [
    "# Saving data and workspaces \n",
    "You can save your data via \n",
    "\n",
    "  - `save(dataname, file = \"filepath/filename.RData\")` or \n",
    "  - `save(dataname, file = \"filepath/filename.rdata\")`"
   ]
  },
  {
   "cell_type": "code",
   "execution_count": 83,
   "id": "eaee29bb",
   "metadata": {
    "eval": false,
    "name": "mysave1"
   },
   "outputs": [],
   "source": [
    "data(mtcars)\n",
    "\n",
    "save(\n",
    "  mtcars, \n",
    "  file = here(\n",
    "    \"data\", \n",
    "    \"mtcars.RData\"\n",
    "    )\n",
    "  )\n",
    "\n",
    "rm(list = ls()) # To clear the Environment\n",
    "\n",
    "load(\n",
    "  here(\n",
    "    \"data\", \n",
    "    \"mtcars.RData\"\n",
    "    )\n",
    "  )"
   ]
  },
  {
   "cell_type": "markdown",
   "id": "63a4d004",
   "metadata": {},
   "source": [
    "You can also save multiple data files as follows: "
   ]
  },
  {
   "cell_type": "code",
   "execution_count": 84,
   "id": "d9395d1e",
   "metadata": {
    "eval": false,
    "name": "mysave2"
   },
   "outputs": [],
   "source": [
    "data(mtcars)\n",
    "\n",
    "library(ggplot2)\n",
    "\n",
    "data(diamonds)\n",
    "\n",
    "save(\n",
    "  mtcars, \n",
    "  diamonds, \n",
    "  file = here(\n",
    "    \"data\", \n",
    "    \"mydata.RData\"\n",
    "    )\n",
    "  )\n",
    "\n",
    "rm(list = ls()) # To clear the Environment\n",
    "\n",
    "load(\n",
    "  here(\n",
    "    \"data\", \n",
    "    \"mydata.RData\"\n",
    "    )\n",
    "  )"
   ]
  },
  {
   "cell_type": "markdown",
   "id": "7c5a1102",
   "metadata": {},
   "source": [
    "If you want to save just a single `object` from the environment and then load it in a later session, maybe with a different name, then you should use `saveRDS()` and `readRDS()` "
   ]
  },
  {
   "cell_type": "code",
   "execution_count": 85,
   "id": "4e2f5b03",
   "metadata": {
    "name": "saverds"
   },
   "outputs": [],
   "source": [
    "data(mtcars)\n",
    "\n",
    "\n",
    "saveRDS(\n",
    "  mtcars, \n",
    "  file = here(\n",
    "    \"data\", \n",
    "    \"mydata.RDS\"\n",
    "    )\n",
    "  )\n",
    "\n",
    "rm(list = ls()) # To clear the Environment\n",
    "\n",
    "readRDS(\n",
    "  here(\n",
    "    \"data\", \n",
    "    \"mydata.RDS\"\n",
    "    )\n",
    "  ) -> ourdata "
   ]
  },
  {
   "cell_type": "markdown",
   "id": "565d3677",
   "metadata": {},
   "source": [
    "If instead you did the following, the file will be read with the name it had when you saved it. "
   ]
  },
  {
   "cell_type": "code",
   "execution_count": 86,
   "id": "4797ed11",
   "metadata": {
    "name": "load"
   },
   "outputs": [],
   "source": [
    "data(mtcars)\n",
    "\n",
    "save(\n",
    "  mtcars, \n",
    "  file = here(\n",
    "    \"data\", \n",
    "    \"mtcars.RData\"\n",
    "    )\n",
    "  )\n",
    "\n",
    "rm(list = ls())  # To clear the Environment\n",
    "\n",
    "load(\n",
    "  here(\n",
    "    \"data\", \n",
    "    \"mtcars.RData\"\n",
    "    )\n",
    "  ) -> ourdata # Note ourdata is listed as \"mtcars\" "
   ]
  },
  {
   "cell_type": "markdown",
   "id": "bbf0bac3",
   "metadata": {},
   "source": [
    "If you want to `save everything` you have done in the work session you can via `save.image()` "
   ]
  },
  {
   "cell_type": "code",
   "execution_count": 87,
   "id": "48ff6f9b",
   "metadata": {
    "eval": false,
    "name": "saveimg"
   },
   "outputs": [],
   "source": [
    "save.image(\n",
    "  file = here(\n",
    "    \"data\", \n",
    "    \"mywork_jan182018.RData\"\n",
    "    )\n",
    "  )"
   ]
  },
  {
   "cell_type": "markdown",
   "id": "92265d00",
   "metadata": {},
   "source": [
    "Images are useful if you have a lot of R code you have written and various objects generated that individually take time to build and you do not want to start from scratch the next time around. "
   ]
  },
  {
   "cell_type": "markdown",
   "id": "159095ba",
   "metadata": {
    "tags": []
   },
   "source": [
    "# RStudio webinars\n",
    "The fantastic team at RStudio runs free webinar that are often very helpful so be sure to signup with your email. Here are some video recodgins of webinars that are relevant to what we have covered so far. \n",
    "\n",
    "- [Programming Part 1 (Writing code in RStudio)](https://www.rstudio.com/resources/webinars/rstudio-essentials-webinar-series-part-1/) \n",
    "- [Programming Part 2 (Debugging code in RStudio)](https://www.rstudio.com/resources/webinars/rstudio-essentials-webinar-series-programming-part-2/) \n",
    "- [Managing Change Part 1 (Projects in RStudio)](https://www.rstudio.com/resources/webinars/rstudio-essentials-webinar-series-managing-change-part-1/) \n",
    "- [Importing Data into R](https://www.rstudio.com/resources/webinars/importing-data-into-r/) \n",
    "- [Whats new with readxl](https://www.rstudio.com/resources/webinars/whats-new-with-readxl/) \n",
    "- [Getting your data into R](https://www.rstudio.com/resources/webinars/getting-your-data-into-r/) \n",
    "- [Getting Started with R Markdown](https://www.rstudio.com/resources/webinars/getting-started-with-r-markdown/)\n",
    "\n",
    "--------------\n",
    "\n",
    "# Exercises for practice \n",
    "\n",
    "## Ex. 1: Creating and knitting a new RMarkdown file\n",
    "\n",
    "Open a fresh session by launching RStudio and then running `File -> Open Project...`  \n",
    "\n",
    "Give it a title, your name as the author, and then save it with the following name:  `m1ex1.Rmd`  \n",
    "\n",
    "Delete all content starting with `line 12`. \n",
    "\n",
    "Add this level 1 heading `The Starwars Data` and then insert your first code chunk *exactly as shown below* "
   ]
  },
  {
   "cell_type": "code",
   "execution_count": 1,
   "id": "dea3a7f5",
   "metadata": {
    "deletable": false,
    "editable": false,
    "eval": false,
    "name": "ex1a",
    "run_control": {
     "frozen": true
    }
   },
   "outputs": [
    {
     "name": "stderr",
     "output_type": "stream",
     "text": [
      "\n",
      "Attaching package: ‘dplyr’\n",
      "\n",
      "\n",
      "The following objects are masked from ‘package:stats’:\n",
      "\n",
      "    filter, lag\n",
      "\n",
      "\n",
      "The following objects are masked from ‘package:base’:\n",
      "\n",
      "    intersect, setdiff, setequal, union\n",
      "\n",
      "\n"
     ]
    },
    {
     "name": "stdout",
     "output_type": "stream",
     "text": [
      "tibble [87 × 14] (S3: tbl_df/tbl/data.frame)\n",
      " $ name      : chr [1:87] \"Luke Skywalker\" \"C-3PO\" \"R2-D2\" \"Darth Vader\" ...\n",
      " $ height    : int [1:87] 172 167 96 202 150 178 165 97 183 182 ...\n",
      " $ mass      : num [1:87] 77 75 32 136 49 120 75 32 84 77 ...\n",
      " $ hair_color: chr [1:87] \"blond\" NA NA \"none\" ...\n",
      " $ skin_color: chr [1:87] \"fair\" \"gold\" \"white, blue\" \"white\" ...\n",
      " $ eye_color : chr [1:87] \"blue\" \"yellow\" \"red\" \"yellow\" ...\n",
      " $ birth_year: num [1:87] 19 112 33 41.9 19 52 47 NA 24 57 ...\n",
      " $ sex       : chr [1:87] \"male\" \"none\" \"none\" \"male\" ...\n",
      " $ gender    : chr [1:87] \"masculine\" \"masculine\" \"masculine\" \"masculine\" ...\n",
      " $ homeworld : chr [1:87] \"Tatooine\" \"Tatooine\" \"Naboo\" \"Tatooine\" ...\n",
      " $ species   : chr [1:87] \"Human\" \"Droid\" \"Droid\" \"Human\" ...\n",
      " $ films     :List of 87\n",
      "  ..$ : chr [1:5] \"The Empire Strikes Back\" \"Revenge of the Sith\" \"Return of the Jedi\" \"A New Hope\" ...\n",
      "  ..$ : chr [1:6] \"The Empire Strikes Back\" \"Attack of the Clones\" \"The Phantom Menace\" \"Revenge of the Sith\" ...\n",
      "  ..$ : chr [1:7] \"The Empire Strikes Back\" \"Attack of the Clones\" \"The Phantom Menace\" \"Revenge of the Sith\" ...\n",
      "  ..$ : chr [1:4] \"The Empire Strikes Back\" \"Revenge of the Sith\" \"Return of the Jedi\" \"A New Hope\"\n",
      "  ..$ : chr [1:5] \"The Empire Strikes Back\" \"Revenge of the Sith\" \"Return of the Jedi\" \"A New Hope\" ...\n",
      "  ..$ : chr [1:3] \"Attack of the Clones\" \"Revenge of the Sith\" \"A New Hope\"\n",
      "  ..$ : chr [1:3] \"Attack of the Clones\" \"Revenge of the Sith\" \"A New Hope\"\n",
      "  ..$ : chr \"A New Hope\"\n",
      "  ..$ : chr \"A New Hope\"\n",
      "  ..$ : chr [1:6] \"The Empire Strikes Back\" \"Attack of the Clones\" \"The Phantom Menace\" \"Revenge of the Sith\" ...\n",
      "  ..$ : chr [1:3] \"Attack of the Clones\" \"The Phantom Menace\" \"Revenge of the Sith\"\n",
      "  ..$ : chr [1:2] \"Revenge of the Sith\" \"A New Hope\"\n",
      "  ..$ : chr [1:5] \"The Empire Strikes Back\" \"Revenge of the Sith\" \"Return of the Jedi\" \"A New Hope\" ...\n",
      "  ..$ : chr [1:4] \"The Empire Strikes Back\" \"Return of the Jedi\" \"A New Hope\" \"The Force Awakens\"\n",
      "  ..$ : chr \"A New Hope\"\n",
      "  ..$ : chr [1:3] \"The Phantom Menace\" \"Return of the Jedi\" \"A New Hope\"\n",
      "  ..$ : chr [1:3] \"The Empire Strikes Back\" \"Return of the Jedi\" \"A New Hope\"\n",
      "  ..$ : chr \"A New Hope\"\n",
      "  ..$ : chr [1:5] \"The Empire Strikes Back\" \"Attack of the Clones\" \"The Phantom Menace\" \"Revenge of the Sith\" ...\n",
      "  ..$ : chr [1:5] \"The Empire Strikes Back\" \"Attack of the Clones\" \"The Phantom Menace\" \"Revenge of the Sith\" ...\n",
      "  ..$ : chr [1:3] \"The Empire Strikes Back\" \"Attack of the Clones\" \"Return of the Jedi\"\n",
      "  ..$ : chr \"The Empire Strikes Back\"\n",
      "  ..$ : chr \"The Empire Strikes Back\"\n",
      "  ..$ : chr [1:2] \"The Empire Strikes Back\" \"Return of the Jedi\"\n",
      "  ..$ : chr \"The Empire Strikes Back\"\n",
      "  ..$ : chr [1:2] \"Return of the Jedi\" \"The Force Awakens\"\n",
      "  ..$ : chr \"Return of the Jedi\"\n",
      "  ..$ : chr \"Return of the Jedi\"\n",
      "  ..$ : chr \"Return of the Jedi\"\n",
      "  ..$ : chr \"Return of the Jedi\"\n",
      "  ..$ : chr \"The Phantom Menace\"\n",
      "  ..$ : chr [1:3] \"Attack of the Clones\" \"The Phantom Menace\" \"Revenge of the Sith\"\n",
      "  ..$ : chr \"The Phantom Menace\"\n",
      "  ..$ : chr [1:2] \"Attack of the Clones\" \"The Phantom Menace\"\n",
      "  ..$ : chr \"The Phantom Menace\"\n",
      "  ..$ : chr \"The Phantom Menace\"\n",
      "  ..$ : chr \"The Phantom Menace\"\n",
      "  ..$ : chr [1:2] \"Attack of the Clones\" \"The Phantom Menace\"\n",
      "  ..$ : chr \"The Phantom Menace\"\n",
      "  ..$ : chr \"The Phantom Menace\"\n",
      "  ..$ : chr [1:2] \"Attack of the Clones\" \"The Phantom Menace\"\n",
      "  ..$ : chr \"The Phantom Menace\"\n",
      "  ..$ : chr \"Return of the Jedi\"\n",
      "  ..$ : chr [1:3] \"Attack of the Clones\" \"The Phantom Menace\" \"Revenge of the Sith\"\n",
      "  ..$ : chr \"The Phantom Menace\"\n",
      "  ..$ : chr \"The Phantom Menace\"\n",
      "  ..$ : chr \"The Phantom Menace\"\n",
      "  ..$ : chr [1:3] \"Attack of the Clones\" \"The Phantom Menace\" \"Revenge of the Sith\"\n",
      "  ..$ : chr [1:3] \"Attack of the Clones\" \"The Phantom Menace\" \"Revenge of the Sith\"\n",
      "  ..$ : chr [1:3] \"Attack of the Clones\" \"The Phantom Menace\" \"Revenge of the Sith\"\n",
      "  ..$ : chr [1:2] \"The Phantom Menace\" \"Revenge of the Sith\"\n",
      "  ..$ : chr [1:2] \"The Phantom Menace\" \"Revenge of the Sith\"\n",
      "  ..$ : chr [1:2] \"The Phantom Menace\" \"Revenge of the Sith\"\n",
      "  ..$ : chr \"The Phantom Menace\"\n",
      "  ..$ : chr [1:3] \"Attack of the Clones\" \"The Phantom Menace\" \"Revenge of the Sith\"\n",
      "  ..$ : chr [1:2] \"Attack of the Clones\" \"The Phantom Menace\"\n",
      "  ..$ : chr \"Attack of the Clones\"\n",
      "  ..$ : chr \"Attack of the Clones\"\n",
      "  ..$ : chr \"Attack of the Clones\"\n",
      "  ..$ : chr [1:2] \"Attack of the Clones\" \"Revenge of the Sith\"\n",
      "  ..$ : chr [1:2] \"Attack of the Clones\" \"Revenge of the Sith\"\n",
      "  ..$ : chr \"Attack of the Clones\"\n",
      "  ..$ : chr \"Attack of the Clones\"\n",
      "  ..$ : chr [1:2] \"Attack of the Clones\" \"Revenge of the Sith\"\n",
      "  ..$ : chr [1:2] \"Attack of the Clones\" \"Revenge of the Sith\"\n",
      "  ..$ : chr \"Attack of the Clones\"\n",
      "  ..$ : chr \"Attack of the Clones\"\n",
      "  ..$ : chr \"Attack of the Clones\"\n",
      "  ..$ : chr \"Attack of the Clones\"\n",
      "  ..$ : chr \"Attack of the Clones\"\n",
      "  ..$ : chr \"Attack of the Clones\"\n",
      "  ..$ : chr \"The Phantom Menace\"\n",
      "  ..$ : chr [1:2] \"Attack of the Clones\" \"Revenge of the Sith\"\n",
      "  ..$ : chr \"Attack of the Clones\"\n",
      "  ..$ : chr \"Attack of the Clones\"\n",
      "  ..$ : chr [1:2] \"Attack of the Clones\" \"Revenge of the Sith\"\n",
      "  ..$ : chr \"Revenge of the Sith\"\n",
      "  ..$ : chr \"Revenge of the Sith\"\n",
      "  ..$ : chr [1:2] \"Revenge of the Sith\" \"A New Hope\"\n",
      "  ..$ : chr [1:2] \"Attack of the Clones\" \"Revenge of the Sith\"\n",
      "  ..$ : chr \"Revenge of the Sith\"\n",
      "  ..$ : chr \"The Force Awakens\"\n",
      "  ..$ : chr \"The Force Awakens\"\n",
      "  ..$ : chr \"The Force Awakens\"\n",
      "  ..$ : chr \"The Force Awakens\"\n",
      "  ..$ : chr \"The Force Awakens\"\n",
      "  ..$ : chr [1:3] \"Attack of the Clones\" \"The Phantom Menace\" \"Revenge of the Sith\"\n",
      " $ vehicles  :List of 87\n",
      "  ..$ : chr [1:2] \"Snowspeeder\" \"Imperial Speeder Bike\"\n",
      "  ..$ : chr(0) \n",
      "  ..$ : chr(0) \n",
      "  ..$ : chr(0) \n",
      "  ..$ : chr \"Imperial Speeder Bike\"\n",
      "  ..$ : chr(0) \n",
      "  ..$ : chr(0) \n",
      "  ..$ : chr(0) \n",
      "  ..$ : chr(0) \n",
      "  ..$ : chr \"Tribubble bongo\"\n",
      "  ..$ : chr [1:2] \"Zephyr-G swoop bike\" \"XJ-6 airspeeder\"\n",
      "  ..$ : chr(0) \n",
      "  ..$ : chr \"AT-ST\"\n",
      "  ..$ : chr(0) \n",
      "  ..$ : chr(0) \n",
      "  ..$ : chr(0) \n",
      "  ..$ : chr \"Snowspeeder\"\n",
      "  ..$ : chr(0) \n",
      "  ..$ : chr(0) \n",
      "  ..$ : chr(0) \n",
      "  ..$ : chr(0) \n",
      "  ..$ : chr(0) \n",
      "  ..$ : chr(0) \n",
      "  ..$ : chr(0) \n",
      "  ..$ : chr(0) \n",
      "  ..$ : chr(0) \n",
      "  ..$ : chr(0) \n",
      "  ..$ : chr(0) \n",
      "  ..$ : chr(0) \n",
      "  ..$ : chr(0) \n",
      "  ..$ : chr \"Tribubble bongo\"\n",
      "  ..$ : chr(0) \n",
      "  ..$ : chr(0) \n",
      "  ..$ : chr(0) \n",
      "  ..$ : chr(0) \n",
      "  ..$ : chr(0) \n",
      "  ..$ : chr(0) \n",
      "  ..$ : chr(0) \n",
      "  ..$ : chr(0) \n",
      "  ..$ : chr(0) \n",
      "  ..$ : chr(0) \n",
      "  ..$ : chr \"Sith speeder\"\n",
      "  ..$ : chr(0) \n",
      "  ..$ : chr(0) \n",
      "  ..$ : chr(0) \n",
      "  ..$ : chr(0) \n",
      "  ..$ : chr(0) \n",
      "  ..$ : chr(0) \n",
      "  ..$ : chr(0) \n",
      "  ..$ : chr(0) \n",
      "  ..$ : chr(0) \n",
      "  ..$ : chr(0) \n",
      "  ..$ : chr(0) \n",
      "  ..$ : chr(0) \n",
      "  ..$ : chr(0) \n",
      "  ..$ : chr(0) \n",
      "  ..$ : chr(0) \n",
      "  ..$ : chr(0) \n",
      "  ..$ : chr(0) \n",
      "  ..$ : chr(0) \n",
      "  ..$ : chr(0) \n",
      "  ..$ : chr(0) \n",
      "  ..$ : chr(0) \n",
      "  ..$ : chr \"Flitknot speeder\"\n",
      "  ..$ : chr(0) \n",
      "  ..$ : chr(0) \n",
      "  ..$ : chr \"Koro-2 Exodrive airspeeder\"\n",
      "  ..$ : chr(0) \n",
      "  ..$ : chr(0) \n",
      "  ..$ : chr(0) \n",
      "  ..$ : chr(0) \n",
      "  ..$ : chr(0) \n",
      "  ..$ : chr(0) \n",
      "  ..$ : chr(0) \n",
      "  ..$ : chr(0) \n",
      "  ..$ : chr(0) \n",
      "  ..$ : chr \"Tsmeu-6 personal wheel bike\"\n",
      "  ..$ : chr(0) \n",
      "  ..$ : chr(0) \n",
      "  ..$ : chr(0) \n",
      "  ..$ : chr(0) \n",
      "  ..$ : chr(0) \n",
      "  ..$ : chr(0) \n",
      "  ..$ : chr(0) \n",
      "  ..$ : chr(0) \n",
      "  ..$ : chr(0) \n",
      "  ..$ : chr(0) \n",
      " $ starships :List of 87\n",
      "  ..$ : chr [1:2] \"X-wing\" \"Imperial shuttle\"\n",
      "  ..$ : chr(0) \n",
      "  ..$ : chr(0) \n",
      "  ..$ : chr \"TIE Advanced x1\"\n",
      "  ..$ : chr(0) \n",
      "  ..$ : chr(0) \n",
      "  ..$ : chr(0) \n",
      "  ..$ : chr(0) \n",
      "  ..$ : chr \"X-wing\"\n",
      "  ..$ : chr [1:5] \"Jedi starfighter\" \"Trade Federation cruiser\" \"Naboo star skiff\" \"Jedi Interceptor\" ...\n",
      "  ..$ : chr [1:3] \"Trade Federation cruiser\" \"Jedi Interceptor\" \"Naboo fighter\"\n",
      "  ..$ : chr(0) \n",
      "  ..$ : chr [1:2] \"Millennium Falcon\" \"Imperial shuttle\"\n",
      "  ..$ : chr [1:2] \"Millennium Falcon\" \"Imperial shuttle\"\n",
      "  ..$ : chr(0) \n",
      "  ..$ : chr(0) \n",
      "  ..$ : chr \"X-wing\"\n",
      "  ..$ : chr \"X-wing\"\n",
      "  ..$ : chr(0) \n",
      "  ..$ : chr(0) \n",
      "  ..$ : chr \"Slave 1\"\n",
      "  ..$ : chr(0) \n",
      "  ..$ : chr(0) \n",
      "  ..$ : chr \"Millennium Falcon\"\n",
      "  ..$ : chr(0) \n",
      "  ..$ : chr(0) \n",
      "  ..$ : chr(0) \n",
      "  ..$ : chr \"A-wing\"\n",
      "  ..$ : chr(0) \n",
      "  ..$ : chr \"Millennium Falcon\"\n",
      "  ..$ : chr(0) \n",
      "  ..$ : chr(0) \n",
      "  ..$ : chr(0) \n",
      "  ..$ : chr(0) \n",
      "  ..$ : chr(0) \n",
      "  ..$ : chr(0) \n",
      "  ..$ : chr \"Naboo Royal Starship\"\n",
      "  ..$ : chr(0) \n",
      "  ..$ : chr(0) \n",
      "  ..$ : chr(0) \n",
      "  ..$ : chr(0) \n",
      "  ..$ : chr \"Scimitar\"\n",
      "  ..$ : chr(0) \n",
      "  ..$ : chr(0) \n",
      "  ..$ : chr(0) \n",
      "  ..$ : chr(0) \n",
      "  ..$ : chr(0) \n",
      "  ..$ : chr(0) \n",
      "  ..$ : chr(0) \n",
      "  ..$ : chr(0) \n",
      "  ..$ : chr(0) \n",
      "  ..$ : chr(0) \n",
      "  ..$ : chr(0) \n",
      "  ..$ : chr(0) \n",
      "  ..$ : chr \"Jedi starfighter\"\n",
      "  ..$ : chr(0) \n",
      "  ..$ : chr \"Naboo fighter\"\n",
      "  ..$ : chr(0) \n",
      "  ..$ : chr(0) \n",
      "  ..$ : chr(0) \n",
      "  ..$ : chr(0) \n",
      "  ..$ : chr(0) \n",
      "  ..$ : chr(0) \n",
      "  ..$ : chr(0) \n",
      "  ..$ : chr(0) \n",
      "  ..$ : chr(0) \n",
      "  ..$ : chr(0) \n",
      "  ..$ : chr(0) \n",
      "  ..$ : chr(0) \n",
      "  ..$ : chr(0) \n",
      "  ..$ : chr(0) \n",
      "  ..$ : chr(0) \n",
      "  ..$ : chr(0) \n",
      "  ..$ : chr(0) \n",
      "  ..$ : chr(0) \n",
      "  ..$ : chr(0) \n",
      "  ..$ : chr \"Belbullab-22 starfighter\"\n",
      "  ..$ : chr(0) \n",
      "  ..$ : chr(0) \n",
      "  ..$ : chr(0) \n",
      "  ..$ : chr(0) \n",
      "  ..$ : chr(0) \n",
      "  ..$ : chr(0) \n",
      "  ..$ : chr \"T-70 X-wing fighter\"\n",
      "  ..$ : chr(0) \n",
      "  ..$ : chr(0) \n",
      "  ..$ : chr [1:3] \"H-type Nubian yacht\" \"Naboo star skiff\" \"Naboo fighter\"\n"
     ]
    }
   ],
   "source": [
    "library(dplyr)\n",
    "\n",
    "data(starwars)\n",
    "\n",
    "str(starwars)"
   ]
  },
  {
   "cell_type": "markdown",
   "id": "3568a931",
   "metadata": {},
   "source": [
    "Add this level 2 heading `Character  Heights and Weights` and then your second code chunk "
   ]
  },
  {
   "cell_type": "code",
   "execution_count": null,
   "id": "243f5a49",
   "metadata": {
    "deletable": false,
    "editable": false,
    "eval": false,
    "name": "ex1b",
    "run_control": {
     "frozen": true
    }
   },
   "outputs": [],
   "source": [
    "plot(starwars$height, plot$mass)"
   ]
  },
  {
   "cell_type": "markdown",
   "id": "417f1093",
   "metadata": {},
   "source": [
    "Now knit this file to **html** "
   ]
  },
  {
   "cell_type": "markdown",
   "id": "120154fa",
   "metadata": {},
   "source": [
    "## Ex. 2: Lorem Ipsum paragraphs and graphs \n",
    "\n",
    "Go to [this website](https://loremipsumgenerator.com/generator/?n=2&t=p) and generate five Lorem Ipsum placeholder text paragraphs. Insert these five paragraphs in a new RMarkdown file.  \n",
    "\n",
    "  - para 1: must have level 1 heading \n",
    "  - para 2: must have level 2 heading \n",
    "  - para 3: must have level 3 heading \n",
    "  - para 4: must have level 4 heading \n",
    "  - para 5: must have level 5 heading \n",
    "\n",
    "Using the `starwars` data, create five code chunks, one after each paragraph \n",
    "\n",
    "  - Each code chunk will have the same R code (see below)"
   ]
  },
  {
   "cell_type": "code",
   "execution_count": null,
   "id": "622f6564",
   "metadata": {
    "deletable": false,
    "editable": false,
    "eval": false,
    "name": "ex1c",
    "run_control": {
     "frozen": true
    }
   },
   "outputs": [],
   "source": [
    "plot(starwars$height, starwars$mass)"
   ]
  },
  {
   "cell_type": "markdown",
   "id": "bf997860",
   "metadata": {},
   "source": [
    "Now knit this file to **html** "
   ]
  },
  {
   "cell_type": "markdown",
   "id": "c271e918",
   "metadata": {},
   "source": [
    "## Ex. 3: Reading in three data files \n",
    "\n",
    "Create a new `RMarkdown` file.  \n",
    "\n",
    "Insert a code chunk that reads in both these files found on the web \n",
    "\n",
    "- `http://www.stata.com/data/jwooldridge/eacsap/mroz.dta` \n",
    "- `http://calcnet.mth.cmich.edu/org/spss/V16_materials/DataSets_v16/airline_passengers.sav` \n",
    "\n",
    "In a follow-up code chunk, run the `summary()` command on each data-set \n",
    "\n",
    "In a separate code chunk, read in [this dataset](https://s3.amazonaws.com/tripdata/201502-citibike-tripdata.zip) after you download it and save the unzipped file in your **data** folder. \n",
    "\n",
    "- The variable `gender` has the following codes: `Zero = unknown; 1 = male; 2 = female` \n",
    "- Use this coding scheme to convert `gender` into a `factor` with these value labels \n",
    "\n",
    "In a follow-up chunk run both the following commands on this data-set \n",
    "\n",
    "- `names()` \n",
    "- `str()` \n",
    "- `summary()` \n",
    "\n",
    "In a final chunk, run the commands necessary to save each of the three data-sets as separate `RData` files. Make sure you save them in your **data** folder. \n",
    "\n",
    "Now knit the complete `Rmd` file to **html** "
   ]
  },
  {
   "cell_type": "markdown",
   "id": "f967e500",
   "metadata": {},
   "source": [
    "## Ex. 4: Knitting with `prettydoc` \n",
    "\n",
    "I'd like you to use a specific R Markdown format because the  resulting html files are very readable \n",
    "\n",
    "Install `prettydoc` package. Now create a prettydoc Rmd file via `New File -> RMarkdown... -> From Template -> Lightweight and Pretty Document (HTML)` \n",
    "\n",
    "Now take all the text and code chunk you created in Ex. 3 and insert it in this file. Make sure you add a title, etc in the `YAML` and then knit the file to `html` \n",
    "\n",
    "You can play with the `theme:` and `highlight:` fields, choosing from the options [displayed here](https://github.com/yixuan/prettydoc/)\n",
    " \n",
    "You should consider using either the `prettydoc` format or the default RMarkdown templates baked into RStudio. You can explore those [here](http://www.datadreaming.org/post/r-markdown-theme-gallery/) and find the settings that can be tweaked via experimentation. "
   ]
  },
  {
   "cell_type": "markdown",
   "id": "1212a479",
   "metadata": {},
   "source": [
    "## Ex. 5: Mapping your \"happy\" place \n",
    "\n",
    "Think about the one physical location that is, for you, your \"happy\" place. It could be a beach, a house you grew up in, a friend or relative's house, a hiking trail, a restaurant, a resort, etc. \n",
    "\n",
    "Use google maps to find this place and then write down the latitude and longitude google gives you. \n",
    "\n",
    "Now build a leaflet map that shows this place with a popup. The popup must reflect, when clicked, a brief description of what this place is and why it means so much to you.\n",
    "\n",
    "<br> \n",
    "<a href = \"module02.html\" class = \"btn button_round\" style = \"float: right;\"> Next Module:<br> Graphics with ggplot2</a>"
   ]
  },
  {
   "cell_type": "markdown",
   "id": "93f22fac",
   "metadata": {},
   "source": [
    "<center>Visitors</center>\n",
    "<center>\n",
    "<div id=\"sfcgz9jyj612nqn8gw3ds33zd44pw6mc3fg\"></div>\n",
    "<script type=\"text/javascript\" src=\"https://counter7.stat.ovh/private/counter.js?c=gz9jyj612nqn8gw3ds33zd44pw6mc3fg&down=async\" async></script><br><a href=\"https://www.freecounterstat.com\">website counter</a><noscript><a href=\"https://www.freecounterstat.com\" title=\"website counter\"><img src=\"https://counter7.stat.ovh/private/freecounterstat.php?c=gz9jyj612nqn8gw3ds33zd44pw6mc3fg\" border=\"0\" title=\"website counter\" alt=\"website counter\"></a>\n",
    "</noscript>\n",
    "</center>\n"
   ]
  }
 ],
 "metadata": {
  "jupytext": {
   "cell_metadata_filter": "language,out.width,eval,include,tags,fig.align,name,klippy,layout,-all",
   "main_language": "R",
   "notebook_metadata_filter": "-all"
  },
  "kernelspec": {
   "display_name": "R",
   "language": "R",
   "name": "ir"
  },
  "language_info": {
   "codemirror_mode": "r",
   "file_extension": ".r",
   "mimetype": "text/x-r-source",
   "name": "R",
   "pygments_lexer": "r",
   "version": "4.1.2"
  },
  "toc-showtags": false
 },
 "nbformat": 4,
 "nbformat_minor": 5
}
